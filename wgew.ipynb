{
 "cells": [
  {
   "cell_type": "code",
   "execution_count": 3,
   "id": "93b3375e-ec86-4b5e-9286-d783c8dd24e9",
   "metadata": {},
   "outputs": [],
   "source": [
    "import pandas as pd\n",
    "import requests\n",
    "import time\n",
    "\n",
    "instrumentation_file = \"./SWRC_DAP_Instrumentation_-6480797226837888374.csv\""
   ]
  },
  {
   "cell_type": "code",
   "execution_count": 4,
   "id": "2a3f5523-f10a-4e1e-ab1b-f59c5f83dba5",
   "metadata": {},
   "outputs": [
    {
     "data": {
      "text/plain": [
       "Index(['OBJECTID', 'id', 'effectiveDate', 'instrument_ID', 'name', 'siteType',\n",
       "       'Watershed', 'siteTypeStr', 'structure', 'dataLoc',\n",
       "       'Type (Digital/Analog/Both)', 'Analog_Years', 'Purpose',\n",
       "       'Digital_Years', 'State', 'County', 'Easting_DB', 'Norting_DB',\n",
       "       'Elevation_DB', 'latitude', 'longitude', 'Area_acres', 'In_DB',\n",
       "       'Published', 'Notes', 'Notes 2', 'x', 'y'],\n",
       "      dtype='object')"
      ]
     },
     "execution_count": 4,
     "metadata": {},
     "output_type": "execute_result"
    }
   ],
   "source": [
    "instrumentation_df = pd.read_csv(instrumentation_file)\n",
    "instrumentation_df.columns"
   ]
  },
  {
   "cell_type": "code",
   "execution_count": 5,
   "id": "45343c35-77fc-45cd-86d5-0778c6616941",
   "metadata": {},
   "outputs": [
    {
     "data": {
      "text/plain": [
       "0         Raingage\n",
       "1            Flume\n",
       "2             Weir\n",
       "3             Tank\n",
       "4              Met\n",
       "5    Soil Moisture\n",
       "6             Flux\n",
       "7             Well\n",
       "dtype: object"
      ]
     },
     "execution_count": 5,
     "metadata": {},
     "output_type": "execute_result"
    }
   ],
   "source": [
    "# Let's get a look at the uniquie instrument type names.\n",
    "siteTypes = pd.Series(instrumentation_df.siteTypeStr.unique())\n",
    "siteTypes"
   ]
  },
  {
   "cell_type": "code",
   "execution_count": 6,
   "id": "ff750da4-71b9-41a5-bd88-8151d2169ad1",
   "metadata": {},
   "outputs": [],
   "source": [
    "wgew_raingage_df = instrumentation_df.query(\"siteTypeStr == 'Raingage' and Watershed == 'WGEW'\")"
   ]
  },
  {
   "cell_type": "code",
   "execution_count": 7,
   "id": "e589c71b-44a6-47dc-b690-560abc0fe9c7",
   "metadata": {},
   "outputs": [],
   "source": [
    "# We have all of the WGEW raingages.\n",
    "# Iterate through each and download the precip data for each raingage.\n",
    "# The url to the WGEW DAP site: https://www.tucson.ars.ag.gov/dap/\n",
    "# The url to the WGEW DAP 1953-1999 raingage event page: https://www.tucson.ars.ag.gov/dap/event.asp\n",
    "# Example url for POST querying a guage's event precip data: https://www.tucson.ars.ag.gov/dap/eventh.asp\n",
    "# Example form 1953-1999 data: hiddenStartYear=1953&hiddenEndYear=1999&Watershed=63&gages=1-140&StartMonth=1&StartDay=1&StartYear=1953&EndMonth=12&EndDay=31&EndYear=1999&all=ON&type=summary&format=text&sortby=sortby_gage&units=inches&MinDepth=&MaxDepth=&MinDuration=&MaxDuration=&submit=Submit\n",
    "# Example form 2000-2024 data: hiddenStartYear=2000&hiddenEndYear=2024&Watershed=63&gages=1-500&StartMonth=1&StartDay=1&StartYear=2000&EndMonth=12&EndDay=31&EndYear=2024&all=ON&type=summary&format=text&sortby=sortby_gage&units=inches&MinDepth=&MaxDepth=&MinDuration=&MaxDuration=&submit=Submit\n",
    "# analog: /dap/eventh.asp, header: Gage,Date,Time,Duration,Depth,Time_Est,Rainfall_Rate,Rainfall_Est\n",
    "# digital: /dap/digital/eventh.asp, header: Gage,Date,Time,Duration,Depth,,Rainfall_Rate\n",
    "\n",
    "current_year = time.strftime(\"%Y\")\n",
    "time_ranges = {\n",
    "    \"analog\": {\"start_year\": \"1953\", \"end_year\": \"1999\"},\n",
    "    \"digital\": {\"start_year\": \"2000\", \"end_year\": f\"{current_year}\"},\n",
    "}\n",
    "\n",
    "headers = {\n",
    "    'User-Agent': 'Mozilla/5.0 (Windows NT 10.0; Win64; x64; rv:132.0) Gecko/20100101 Firefox/132.0',\n",
    "    'Accept': 'text/html,application/xhtml+xml,application/xml;q=0.9,*/*;q=0.8',\n",
    "    'Accept-Language': 'en-US,en;q=0.5',\n",
    "    'Accept-Encoding': 'gzip, deflate, br, zstd',\n",
    "    'Content-Type': 'application/x-www-form-urlencoded',\n",
    "    'Content-Length': '215',\n",
    "    'Origin': 'https://www.tucson.ars.ag.gov',\n",
    "    'Connection': 'keep-alive',\n",
    "    'Referer': 'https://www.tucson.ars.ag.gov/dap/digital/event.asp',\n",
    "    'Cookie': 'ASPSESSIONIDSCFDDCDB=EOLLGDGDENMLKPANMNAKGEML',\n",
    "    'Upgrade-Insecure-Requests': '1',\n",
    "    'Sec-Fetch-Dest': 'document',\n",
    "    'Sec-Fetch-Mode': 'navigate',\n",
    "    'Sec-Fetch-Site': 'same-origin',\n",
    "    'Sec-Fetch-User': '?1',\n",
    "    'DNT': '1',\n",
    "    'Sec-GPC': '1',\n",
    "    'Priority': 'u=0, i'\n",
    "}\n",
    "\n",
    "payload = {\n",
    "    \"hiddenStartYear\": \"1953\",\n",
    "    \"hiddenEndYear\": \"1999\",\n",
    "    \"Watershed\": \"63\",\n",
    "    \"gages\": \"1\",\n",
    "    \"StartMonth\": \"1\",\n",
    "    \"StartDay\": \"1\",\n",
    "    \"StartYear\": \"1953\",\n",
    "    \"EndMonth\": \"12\",\n",
    "    \"EndDay\": \"31\",\n",
    "    \"EndYear\": \"1999\",\n",
    "    \"all\": \"ON\",\n",
    "    \"type\": \"breakpoint\",\n",
    "    \"format\": \"text\",\n",
    "    \"sortby\": \"sortby_gage\",\n",
    "    \"units\": \"inches\",\n",
    "    \"MinDepth\": \"\",\n",
    "    \"MaxDepth\": \"\",\n",
    "    \"MinDuration\": \"\",\n",
    "    \"MaxDuration\": \"\",\n",
    "    \"submit\": \"Submit\",\n",
    "}\n",
    "\n",
    "analog_url = \"https://www.tucson.ars.ag.gov/dap/eventh.asp\"\n",
    "digital_url = \"https://www.tucson.ars.ag.gov/dap/digital/eventh.asp\"\n",
    "\n",
    "# session = requests.Session()\n",
    "# resp = session.post(url, headers=headers, data=payload)\n",
    "# for line in resp.text.split(\"\\n\"):\n",
    "#     print(line)"
   ]
  },
  {
   "cell_type": "code",
   "execution_count": null,
   "id": "7fa12a9e-9063-43b3-b3d2-c07e3a0694a8",
   "metadata": {},
   "outputs": [],
   "source": []
  }
 ],
 "metadata": {
  "kernelspec": {
   "display_name": ".venv",
   "language": "python",
   "name": "python3"
  },
  "language_info": {
   "codemirror_mode": {
    "name": "ipython",
    "version": 3
   },
   "file_extension": ".py",
   "mimetype": "text/x-python",
   "name": "python",
   "nbconvert_exporter": "python",
   "pygments_lexer": "ipython3",
   "version": "3.13.0"
  }
 },
 "nbformat": 4,
 "nbformat_minor": 5
}
